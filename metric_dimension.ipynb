{
 "cells": [
  {
   "cell_type": "code",
   "execution_count": 1,
   "metadata": {
    "collapsed": false
   },
   "outputs": [
   ],
   "source": [
    "def metric_dimension(G):\n",
    "    # funkcija vrne metrično dimenzijo grafa G\n",
    "    n = G.num_verts()  # število vozlišč\n",
    "    D = G.distance_matrix()  # matrika razdalj med vsakima dvema vozliščema v grafu\n",
    "    p = MixedIntegerLinearProgram(maximization = False)\n",
    "    x = p.new_variable(binary = True)  # x_i je 1, če je i-to vozlišče v rešljivi množici, in 0 sicer\n",
    "    for u, v in Combinations(range(n), 2):\n",
    "        p.add_constraint(sum(x[w] for w in range(n)  # dobljena vsota je število x_i, pri katerih se razlikuje razdalja do vozlišč iz para?\n",
    "                             if D[u, w] != D[v, w]) >= 1)  # razlikovati se mora vsaj pri enem paru\n",
    "    p.set_objective(sum(x[w] for w in range(n)))  # minimiziramo število vozlišč v rešljivi množici\n",
    "    return p.solve()"
   ]
  },
  {
   "cell_type": "code",
   "execution_count": 2,
   "metadata": {
    "collapsed": false
   },
   "outputs": [
   ],
   "source": [
    "def fractional_metric_dimension(G):\n",
    "    # funkcija vrne deljeno metrično dimenzijo grafa G\n",
    "    n = G.num_verts()\n",
    "    D = G.distance_matrix()\n",
    "    p = MixedIntegerLinearProgram(maximization = False)\n",
    "    x = p.new_variable(real=True, nonnegative=True)  # najprej zahtevamo x_i >= 0 \n",
    "    p.set_max(x,1)  # nato pa še x_i <= 1\n",
    "    for u, v in Combinations(range(n), 2):\n",
    "        p.add_constraint(sum(x[w] for w in range(n)\n",
    "                             if D[u, w] != D[v, w]) >= 1)\n",
    "    p.set_objective(sum(x[w] for w in range(n)))\n",
    "    return p.solve()"
   ]
  },
  {
   "cell_type": "code",
   "execution_count": 3,
   "metadata": {
    "collapsed": false
   },
   "outputs": [
    {
     "name": "stdout",
     "output_type": "stream",
     "text": [
      "2.0\n",
      "1.5\n"
     ]
    }
   ],
   "source": [
    "F = graphs.CompleteGraph(3)\n",
    "print(metric_dimension(F))\n",
    "print(fractional_metric_dimension(F))"
   ]
  },
  {
   "cell_type": "code",
   "execution_count": 7,
   "metadata": {
    "collapsed": false
   },
   "outputs": [
    {
     "name": "stdout",
     "output_type": "stream",
     "text": [
      "11.0\n",
      "6.0\n"
     ]
    }
   ],
   "source": [
    "G = graphs.CompleteGraph(12)\n",
    "print(metric_dimension(G))\n",
    "print(fractional_metric_dimension(G))"
   ]
  },
  {
   "cell_type": "code",
   "execution_count": 8,
   "metadata": {
    "collapsed": false
   },
   "outputs": [
    {
     "name": "stdout",
     "output_type": "stream",
     "text": [
      "3.0\n",
      "1.666666666666667\n"
     ]
    }
   ],
   "source": [
    "H = graphs.PetersenGraph()\n",
    "print(metric_dimension(H))\n",
    "print(fractional_metric_dimension(H))"
   ]
  },
  {
   "cell_type": "code",
   "execution_count": 9,
   "metadata": {
    "collapsed": false
   },
   "outputs": [
    {
     "name": "stdout",
     "output_type": "stream",
     "text": [
      "3.0\n",
      "2.5\n"
     ]
    }
   ],
   "source": [
    "I = graphs.CompleteBipartiteGraph(3,2)\n",
    "print(metric_dimension(I))\n",
    "print(fractional_metric_dimension(I))"
   ]
  },
  {
   "cell_type": "code",
   "execution_count": 10,
   "metadata": {
    "collapsed": false
   },
   "outputs": [
    {
     "name": "stdout",
     "output_type": "stream",
     "text": [
      "3.0\n",
      "2.0\n"
     ]
    }
   ],
   "source": [
    "J = graphs.CubeGraph(3)\n",
    "print(metric_dimension(J))\n",
    "print(fractional_metric_dimension(J))"
   ]
  },
  {
   "cell_type": "code",
   "execution_count": 11,
   "metadata": {
    "collapsed": false
   },
   "outputs": [
    {
     "name": "stdout",
     "output_type": "stream",
     "text": [
      "2.0\n",
      "1.25\n"
     ]
    }
   ],
   "source": [
    "K = graphs.CycleGraph(5)\n",
    "print(metric_dimension(K))\n",
    "print(fractional_metric_dimension(K))"
   ]
  },
  {
   "cell_type": "code",
   "execution_count": 12,
   "metadata": {
    "collapsed": false
   },
   "outputs": [
    {
     "name": "stdout",
     "output_type": "stream",
     "text": [
      "1.0\n",
      "1.0\n"
     ]
    }
   ],
   "source": [
    "L = graphs.PathGraph(10)\n",
    "print(metric_dimension(L))\n",
    "print(fractional_metric_dimension(L))"
   ]
  },
  {
   "cell_type": "code",
   "execution_count": 13,
   "metadata": {
    "collapsed": false
   },
   "outputs": [
    {
     "name": "stdout",
     "output_type": "stream",
     "text": [
      "3.0\n",
      "1.5555555555555556\n"
     ]
    }
   ],
   "source": [
    "M = graphs.TietzeGraph()\n",
    "print(metric_dimension(M))\n",
    "print(fractional_metric_dimension(M))"
   ]
  },
  {
   "cell_type": "code",
   "execution_count": 14,
   "metadata": {
    "collapsed": false
   },
   "outputs": [
    {
     "name": "stdout",
     "output_type": "stream",
     "text": [
      "2.0\n",
      "1.5\n"
     ]
    }
   ],
   "source": [
    "N = M.random_spanning_tree(output_as_graph=True)\n",
    "print(metric_dimension(N))\n",
    "print(fractional_metric_dimension(N))"
   ]
  },
  {
   "cell_type": "code",
   "execution_count": 9,
   "metadata": {
    "collapsed": false
   },
   "outputs": [
    {
     "name": "stdout",
     "output_type": "stream",
     "text": [
      "250.0\n"
     ]
    }
   ],
   "source": [
    "P = graphs.CompleteGraph(500)\n",
    "print(fractional_metric_dimension(P))"
   ]
  },
  {
   "cell_type": "code",
   "execution_count": 17,
   "metadata": {
    "collapsed": false
   },
   "outputs": [
    {
     "name": "stdout",
     "output_type": "stream",
     "text": [
      "CPU times: user 3 µs, sys: 0 ns, total: 3 µs\n",
      "Wall time: 5.96 µs\n",
      "2.0\n",
      "1.0\n",
      "2.0\n",
      "2.0\n",
      "2.0\n",
      "3.0\n"
     ]
    }
   ],
   "source": [
    "gen = graphs.nauty_geng(\"4 -c\")\n",
    "\n",
    "%time\n",
    "for g in gen:\n",
    "    md = metric_dimension(g)\n",
    "    print(md)"
   ]
  },
  {
   "cell_type": "code",
   "execution_count": 15,
   "metadata": {
    "collapsed": false,
    "scrolled": true
   },
   "outputs": [
    {
     "name": "stdout",
     "output_type": "stream",
     "text": [
      "CPU times: user 2.67 ms, sys: 309 µs, total: 2.98 ms\n",
      "Wall time: 2.89 ms\n",
      "2.0\n",
      "CPU times: user 1.61 ms, sys: 39 µs, total: 1.65 ms\n",
      "Wall time: 1.46 ms\n",
      "1.5\n",
      "-----\n",
      "CPU times: user 1.7 ms, sys: 0 ns, total: 1.7 ms\n",
      "Wall time: 1.56 ms\n",
      "1.0\n",
      "CPU times: user 1.32 ms, sys: 0 ns, total: 1.32 ms\n",
      "Wall time: 1.15 ms\n",
      "1.0\n",
      "-----\n",
      "CPU times: user 2.09 ms, sys: 0 ns, total: 2.09 ms\n",
      "Wall time: 1.91 ms\n",
      "2.0\n",
      "CPU times: user 1.12 ms, sys: 78 µs, total: 1.19 ms\n",
      "Wall time: 1.04 ms\n",
      "1.5\n",
      "-----\n",
      "CPU times: user 440 µs, sys: 1.33 ms, total: 1.77 ms\n",
      "Wall time: 1.63 ms\n",
      "2.0\n",
      "CPU times: user 0 ns, sys: 1.42 ms, total: 1.42 ms\n",
      "Wall time: 1.14 ms\n",
      "2.0\n",
      "-----\n",
      "CPU times: user 0 ns, sys: 2.24 ms, total: 2.24 ms\n",
      "Wall time: 1.78 ms\n",
      "2.0\n",
      "CPU times: user 1.15 ms, sys: 133 µs, total: 1.28 ms\n",
      "Wall time: 1.06 ms\n",
      "2.0\n",
      "-----\n",
      "CPU times: user 2.45 ms, sys: 0 ns, total: 2.45 ms\n",
      "Wall time: 1.97 ms\n",
      "3.0\n",
      "CPU times: user 1.43 ms, sys: 0 ns, total: 1.43 ms\n",
      "Wall time: 1.35 ms\n",
      "2.0\n",
      "-----\n"
     ]
    }
   ],
   "source": [
    "gen = graphs.nauty_geng(\"4 -c\")\n",
    "\n",
    "for g in gen:\n",
    "    %time md = metric_dimension(g)\n",
    "    print(md)\n",
    "    %time fmd = fractional_metric_dimension(g)\n",
    "    print(fmd)\n",
    "    print('-----')"
   ]
  },
  {
   "cell_type": "code",
   "execution_count": 4,
   "metadata": {
    "collapsed": false
   },
   "outputs": [
    {
     "name": "stdout",
     "output_type": "stream",
     "text": [
      "CPU times: user 18.3 ms, sys: 20.4 ms, total: 38.7 ms\n",
      "Wall time: 114 ms\n",
      "CPU times: user 9 µs, sys: 2 µs, total: 11 µs\n",
      "Wall time: 16 µs\n",
      "0\n",
      "-------\n",
      "CPU times: user 2.62 ms, sys: 16.2 ms, total: 18.8 ms\n",
      "Wall time: 44.5 ms\n",
      "CPU times: user 12 µs, sys: 0 ns, total: 12 µs\n",
      "Wall time: 16.9 µs\n",
      "0\n",
      "-------\n",
      "CPU times: user 2.79 ms, sys: 11.4 ms, total: 14.2 ms\n",
      "Wall time: 27.3 ms\n",
      "CPU times: user 0 ns, sys: 20 µs, total: 20 µs\n",
      "Wall time: 21 µs\n",
      "0\n",
      "-------\n"
     ]
    },
    {
     "name": "stdout",
     "output_type": "stream",
     "text": [
      "CPU times: user 14.9 ms, sys: 15 ms, total: 29.9 ms\n",
      "Wall time: 10.1 s\n",
      "CPU times: user 27 µs, sys: 0 ns, total: 27 µs\n",
      "Wall time: 28.8 µs\n",
      "0\n",
      "-------\n",
      "CPU times: user 39.7 ms, sys: 11.9 ms, total: 51.7 ms\n",
      "Wall time: 63.9 ms\n",
      "CPU times: user 16 µs, sys: 0 ns, total: 16 µs\n",
      "Wall time: 19.1 µs\n",
      "0\n",
      "-------\n"
     ]
    },
    {
     "name": "stdout",
     "output_type": "stream",
     "text": [
      "CPU times: user 303 ms, sys: 45.9 ms, total: 349 ms\n",
      "Wall time: 383 ms\n",
      "CPU times: user 11 µs, sys: 3 µs, total: 14 µs\n",
      "Wall time: 18.1 µs\n",
      "0\n",
      "-------\n"
     ]
    },
    {
     "name": "stdout",
     "output_type": "stream",
     "text": [
      "CPU times: user 2.71 s, sys: 210 ms, total: 2.92 s\n",
      "Wall time: 3.07 s\n",
      "CPU times: user 14 µs, sys: 2 µs, total: 16 µs\n",
      "Wall time: 20 µs\n",
      "0\n",
      "-------\n"
     ]
    },
    {
     "name": "stdout",
     "output_type": "stream",
     "text": [
      "CPU times: user 42.2 s, sys: 2.77 s, total: 45 s\n",
      "Wall time: 47.2 s\n",
      "CPU times: user 9 µs, sys: 0 ns, total: 9 µs\n",
      "Wall time: 11.9 µs\n",
      "0\n",
      "-------\n"
     ]
    }
   ],
   "source": [
    "generatorji = [graphs.nauty_geng(\"{0} -c\".format(n)) for n in range(1,9)]\n",
    "\n",
    "def zanka_md(gen):\n",
    "    st_grafov = 0\n",
    "    for g in gen:\n",
    "        st_grafov = st_grafov + 1\n",
    "        metric_dimension(g)\n",
    "    return st_grafov\n",
    "\n",
    "def zanka_fmd(gen):\n",
    "    st_grafov = 0\n",
    "    for g in gen:\n",
    "        st_grafov = st_grafov + 1\n",
    "        fractional_metric_dimension(g)\n",
    "    return st_grafov\n",
    "\n",
    "for gen in generatorji:\n",
    "    %time zanka_md(gen)\n",
    "    %time st_grafov = zanka_fmd(gen)\n",
    "    print(st_grafov)\n",
    "    print('-------')"
   ]
  },
  {
   "cell_type": "code",
   "execution_count": 5,
   "metadata": {
    "collapsed": false
   },
   "outputs": [
    {
     "name": "stdout",
     "output_type": "stream",
     "text": [
      "0.039920091629\n",
      "3.09944152832e-06\n",
      "-------\n",
      "0.0429441928864\n",
      "3.09944152832e-06\n",
      "-------\n",
      "0.0228134393692\n",
      "9.53674316406e-07\n",
      "-------\n",
      "0.00730168819427\n",
      "4.76837158203e-07\n",
      "-------\n"
     ]
    },
    {
     "name": "stdout",
     "output_type": "stream",
     "text": [
      "0.00383876618885\n",
      "1.02179391044e-07\n",
      "-------\n"
     ]
    },
    {
     "name": "stdout",
     "output_type": "stream",
     "text": [
      "0.00294708992754\n",
      "2.76735850743e-08\n",
      "-------\n"
     ]
    },
    {
     "name": "stdout",
     "output_type": "stream",
     "text": [
      "0.0158166083194\n",
      "3.35407145278e-09\n",
      "-------\n"
     ]
    }
   ],
   "source": [
    "generatorji = [graphs.nauty_geng(\"{0} -c\".format(n)) for n in range(1,9)]\n",
    "\n",
    "import time\n",
    "\n",
    "for gen in generatorji:\n",
    "    st_grafov = 0\n",
    "    start = time.time()\n",
    "    for g in gen:\n",
    "        st_grafov += 1\n",
    "        metric_dimension(g)\n",
    "    end = time.time()\n",
    "    print (end - start)/st_grafov\n",
    "    \n",
    "    start = time.time()\n",
    "    for g in gen:\n",
    "        fractional_metric_dimension(g)\n",
    "    end = time.time()\n",
    "    print (end - start)/st_grafov\n",
    "    print('-------')"
   ]
  },
  {
   "cell_type": "code",
   "execution_count": 9,
   "metadata": {
    "collapsed": false
   },
   "outputs": [
    {
     "name": "stdout",
     "output_type": "stream",
     "text": [
      "0\n",
      "0\n",
      "0.5\n",
      "1.0\n"
     ]
    },
    {
     "name": "stdout",
     "output_type": "stream",
     "text": [
      "1.5\n"
     ]
    },
    {
     "name": "stdout",
     "output_type": "stream",
     "text": [
      "2.0\n"
     ]
    },
    {
     "name": "stdout",
     "output_type": "stream",
     "text": [
      "2.5\n"
     ]
    },
    {
     "name": "stdout",
     "output_type": "stream",
     "text": [
      "3.0\n"
     ]
    }
   ],
   "source": [
    "generatorji = [graphs.nauty_geng(\"{0} -c\".format(n)) for n in range(1,9)]\n",
    "\n",
    "razlika = 0\n",
    "for gen in generatorji:\n",
    "    for g in gen:\n",
    "        razlika = max(razlika, metric_dimension(g) - fractional_metric_dimension(g))\n",
    "    print(razlika)"
   ]
  },
  {
   "cell_type": "markdown",
   "metadata": {
    "collapsed": false
   },
   "source": [
    "for i in range(1,30):    \n",
    "    F = graphs.CompleteGraph(i)\n",
    "    print(metric_dimension(F))\n",
    "    print(fractional_metric_dimension(F))\n",
    "    print('---')"
   ]
  }
 ],
 "metadata": {
  "kernelspec": {
   "display_name": "SageMath (stable)",
   "language": "sagemath",
   "name": "sagemath"
  },
  "language_info": {
   "codemirror_mode": {
    "name": "ipython",
    "version": 2
   },
   "file_extension": ".py",
   "mimetype": "text/x-python",
   "name": "python",
   "nbconvert_exporter": "python",
   "pygments_lexer": "ipython2",
   "version": "2.7.15"
  }
 },
 "nbformat": 4,
 "nbformat_minor": 0
}