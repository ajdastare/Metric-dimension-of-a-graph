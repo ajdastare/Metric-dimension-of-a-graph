{
 "cells": [
  {
   "cell_type": "markdown",
   "metadata": {
    "collapsed": false
   },
   "source": [
    "Metrična in deljena metrična dimenzija za splošne grafe"
   ]
  },
  {
   "cell_type": "code",
   "execution_count": 4,
   "metadata": {
    "collapsed": false
   },
   "outputs": [
   ],
   "source": [
    "def metric_dimension(G):\n",
    "    # funkcija vrne metrično dimenzijo grafa G\n",
    "    n = G.num_verts()  # število vozlišč\n",
    "    D = G.distance_matrix()  # matrika razdalj med vsakima dvema vozliščema v grafu\n",
    "    p = MixedIntegerLinearProgram(maximization = False)\n",
    "    x = p.new_variable(binary = True)  # x_i je 1, če je i-to vozlišče v rešljivi množici, in 0 sicer\n",
    "    for u, v in Combinations(range(n), 2):\n",
    "        p.add_constraint(sum(x[w] for w in range(n)  # dobljena vsota je število x_i, pri katerih se razlikuje razdalja do vozlišč iz para?\n",
    "                             if D[u, w] != D[v, w]) >= 1)  # razlikovati se mora vsaj pri enem paru\n",
    "    p.set_objective(sum(x[w] for w in range(n)))  # minimiziramo število vozlišč v rešljivi množici\n",
    "    return p.solve()"
   ]
  },
  {
   "cell_type": "code",
   "execution_count": 5,
   "metadata": {
    "collapsed": false
   },
   "outputs": [
   ],
   "source": [
    "def fractional_metric_dimension(G):\n",
    "    # funkcija vrne deljeno metrično dimenzijo grafa G\n",
    "    n = G.num_verts()\n",
    "    D = G.distance_matrix()\n",
    "    p = MixedIntegerLinearProgram(maximization = False)\n",
    "    x = p.new_variable(real=True, nonnegative=True)  # najprej zahtevamo x_i >= 0 \n",
    "    p.set_max(x,1)  # nato pa še x_i <= 1\n",
    "    for u, v in Combinations(range(n), 2):\n",
    "        p.add_constraint(sum(x[w] for w in range(n)\n",
    "                             if D[u, w] != D[v, w]) >= 1)\n",
    "    p.set_objective(sum(x[w] for w in range(n)))\n",
    "    return p.solve()"
   ]
  },
  {
   "cell_type": "markdown",
   "metadata": {
    "collapsed": false
   },
   "source": [
    "Nekaj primerov izračuna"
   ]
  },
  {
   "cell_type": "code",
   "execution_count": 7,
   "metadata": {
    "collapsed": false
   },
   "outputs": [
    {
     "name": "stdout",
     "output_type": "stream",
     "text": [
      "11.0\n",
      "6.0\n"
     ]
    }
   ],
   "source": [
    "G = graphs.CompleteGraph(12)\n",
    "print(metric_dimension(G))\n",
    "print(fractional_metric_dimension(G))"
   ]
  },
  {
   "cell_type": "code",
   "execution_count": 9,
   "metadata": {
    "collapsed": false
   },
   "outputs": [
    {
     "name": "stdout",
     "output_type": "stream",
     "text": [
      "3.0\n",
      "2.5\n"
     ]
    }
   ],
   "source": [
    "I = graphs.CompleteBipartiteGraph(3,2)\n",
    "print(metric_dimension(I))\n",
    "print(fractional_metric_dimension(I))"
   ]
  },
  {
   "cell_type": "code",
   "execution_count": 11,
   "metadata": {
    "collapsed": false
   },
   "outputs": [
    {
     "name": "stdout",
     "output_type": "stream",
     "text": [
      "2.0\n",
      "1.25\n"
     ]
    }
   ],
   "source": [
    "K = graphs.CycleGraph(5)\n",
    "print(metric_dimension(K))\n",
    "print(fractional_metric_dimension(K))"
   ]
  },
  {
   "cell_type": "code",
   "execution_count": 12,
   "metadata": {
    "collapsed": false
   },
   "outputs": [
    {
     "name": "stdout",
     "output_type": "stream",
     "text": [
      "1.0\n",
      "1.0\n"
     ]
    }
   ],
   "source": [
    "L = graphs.PathGraph(10)\n",
    "print(metric_dimension(L))\n",
    "print(fractional_metric_dimension(L))"
   ]
  },
  {
   "cell_type": "code",
   "execution_count": 9,
   "metadata": {
    "collapsed": false
   },
   "outputs": [
    {
     "name": "stdout",
     "output_type": "stream",
     "text": [
      "250.0\n"
     ]
    }
   ],
   "source": [
    "P = graphs.CompleteGraph(500)\n",
    "print(fractional_metric_dimension(P))"
   ]
  },
  {
   "cell_type": "code",
   "execution_count": 9,
   "metadata": {
    "collapsed": false
   },
   "outputs": [
    {
     "name": "stdout",
     "output_type": "stream",
     "text": [
      "0\n",
      "0\n",
      "0.5\n",
      "1.0\n"
     ]
    },
    {
     "name": "stdout",
     "output_type": "stream",
     "text": [
      "1.5\n"
     ]
    },
    {
     "name": "stdout",
     "output_type": "stream",
     "text": [
      "2.0\n"
     ]
    },
    {
     "name": "stdout",
     "output_type": "stream",
     "text": [
      "2.5\n"
     ]
    },
    {
     "name": "stdout",
     "output_type": "stream",
     "text": [
      "3.0\n"
     ]
    }
   ],
   "source": [
    "generatorji = [graphs.nauty_geng(\"{0} -c\".format(n)) for n in range(1,9)]\n",
    "\n",
    "razlika = 0\n",
    "for gen in generatorji:\n",
    "    for g in gen:\n",
    "        razlika = max(razlika, metric_dimension(g) - fractional_metric_dimension(g))\n",
    "    print(razlika)"
   ]
  },
  {
   "cell_type": "markdown",
   "metadata": {
    "collapsed": false
   },
   "source": [
    "Merjenje časovne zahtevnosti"
   ]
  },
  {
   "cell_type": "code",
   "execution_count": 3,
   "metadata": {
    "collapsed": false
   },
   "outputs": [
    {
     "name": "stdout",
     "output_type": "stream",
     "text": [
      "CPU times: user 10 ms, sys: 24.7 ms, total: 34.7 ms\n",
      "Wall time: 114 ms\n",
      "1\n",
      "CPU times: user 7.55 ms, sys: 9.45 ms, total: 17 ms\n",
      "Wall time: 38.3 ms\n",
      "1\n",
      "CPU times: user 2.94 ms, sys: 8.83 ms, total: 11.8 ms\n",
      "Wall time: 23.2 ms\n",
      "2\n",
      "CPU times: user 8.33 ms, sys: 8.94 ms, total: 17.3 ms\n",
      "Wall time: 27.5 ms\n",
      "6\n",
      "CPU times: user 35.4 ms, sys: 11.9 ms, total: 47.3 ms\n",
      "Wall time: 57.7 ms\n",
      "21\n"
     ]
    },
    {
     "name": "stdout",
     "output_type": "stream",
     "text": [
      "CPU times: user 266 ms, sys: 47.2 ms, total: 313 ms\n",
      "Wall time: 361 ms\n",
      "112\n"
     ]
    },
    {
     "name": "stdout",
     "output_type": "stream",
     "text": [
      "CPU times: user 2.35 s, sys: 236 ms, total: 2.58 s\n",
      "Wall time: 2.67 s\n",
      "853\n"
     ]
    }
   ],
   "source": [
    "# spodnja zanka je v pomoč pri merjenju časovne zahtevnosti metrične dimenzije za majhne grafe\n",
    "\n",
    "def zanka_md(gen):\n",
    "    st_grafov = 0\n",
    "    for g in gen:\n",
    "        st_grafov = st_grafov + 1\n",
    "        metric_dimension(g)\n",
    "    return st_grafov\n",
    "\n",
    "generatorji = [graphs.nauty_geng(\"{0} -c\".format(n)) for n in range(1,9)]\n",
    "\n",
    "for gen in generatorji:\n",
    "    %time st_grafov = zanka_md(gen)\n",
    "    print(st_grafov)"
   ]
  },
  {
   "cell_type": "code",
   "execution_count": 4,
   "metadata": {
    "collapsed": false
   },
   "outputs": [
    {
     "name": "stdout",
     "output_type": "stream",
     "text": [
      "CPU times: user 15.8 ms, sys: 20.6 ms, total: 36.4 ms\n",
      "Wall time: 94.5 ms\n",
      "1\n",
      "CPU times: user 8.93 ms, sys: 8.59 ms, total: 17.5 ms\n",
      "Wall time: 43.5 ms\n",
      "1\n",
      "CPU times: user 4.02 ms, sys: 12.5 ms, total: 16.6 ms\n",
      "Wall time: 32.1 ms\n",
      "2\n",
      "CPU times: user 58 µs, sys: 19.5 ms, total: 19.5 ms\n",
      "Wall time: 34.6 ms\n",
      "6\n",
      "CPU times: user 30.3 ms, sys: 6.8 ms, total: 37.1 ms\n",
      "Wall time: 54.2 ms\n",
      "21\n"
     ]
    },
    {
     "name": "stdout",
     "output_type": "stream",
     "text": [
      "CPU times: user 166 ms, sys: 11.6 ms, total: 178 ms\n",
      "Wall time: 199 ms\n",
      "112\n"
     ]
    },
    {
     "name": "stdout",
     "output_type": "stream",
     "text": [
      "CPU times: user 1.78 s, sys: 28.2 ms, total: 1.81 s\n",
      "Wall time: 1.92 s\n",
      "853\n"
     ]
    }
   ],
   "source": [
    "# spodnja zanka je v pomoč pri merjenju časovne zahtevnosti deljene metrične dimenzije za majhne grafe\n",
    "\n",
    "def zanka_fmd(gen):\n",
    "    st_grafov = 0\n",
    "    for g in gen:\n",
    "        st_grafov = st_grafov + 1\n",
    "        fractional_metric_dimension(g)\n",
    "    return st_grafov\n",
    "\n",
    "generatorji = [graphs.nauty_geng(\"{0} -c\".format(n)) for n in range(1,9)]\n",
    "\n",
    "for gen in generatorji:\n",
    "    %time st_grafov = zanka_fmd(gen)\n",
    "    print(st_grafov)"
   ]
  },
  {
   "cell_type": "code",
   "execution_count": 4,
   "metadata": {
    "collapsed": false
   },
   "outputs": [
    {
     "name": "stdout",
     "output_type": "stream",
     "text": [
      "CPU times: user 144 ms, sys: 16.7 ms, total: 161 ms\n",
      "Wall time: 199 ms\n",
      "16\n"
     ]
    },
    {
     "name": "stdout",
     "output_type": "stream",
     "text": [
      "CPU times: user 2.13 s, sys: 57.1 ms, total: 2.18 s\n",
      "Wall time: 2.25 s\n",
      "17\n"
     ]
    },
    {
     "name": "stdout",
     "output_type": "stream",
     "text": [
      "CPU times: user 46.8 s, sys: 1.88 s, total: 48.7 s\n",
      "Wall time: 51 s\n",
      "18\n"
     ]
    }
   ],
   "source": [
    "def povprecen_cas_md(n):\n",
    "    # pomožna funkcija, s katero si pomagamo pri merjenju časovne zahtevnosti metrične dimenzije za večje grafe\n",
    "    st_grafov = 0\n",
    "    for i in range(1,21):\n",
    "        G = graphs.RandomGNP(n, i/20)\n",
    "        if G.is_connected():\n",
    "            st_grafov += 1\n",
    "            metric_dimension(G)\n",
    "    return st_grafov\n",
    "\n",
    "for n in [10, 20, 30, 40, 50]:\n",
    "    %time st_grafov = povprecen_cas_md(n)\n",
    "    print(st_grafov)"
   ]
  },
  {
   "cell_type": "code",
   "execution_count": 7,
   "metadata": {
    "collapsed": false
   },
   "outputs": [
    {
     "name": "stdout",
     "output_type": "stream",
     "text": [
      "CPU times: user 82 ms, sys: 12.3 ms, total: 94.2 ms\n",
      "Wall time: 83.9 ms\n",
      "16\n"
     ]
    },
    {
     "name": "stdout",
     "output_type": "stream",
     "text": [
      "CPU times: user 304 ms, sys: 4.05 ms, total: 308 ms\n",
      "Wall time: 332 ms\n",
      "17\n"
     ]
    },
    {
     "name": "stdout",
     "output_type": "stream",
     "text": [
      "CPU times: user 1.13 s, sys: 33.2 ms, total: 1.16 s\n",
      "Wall time: 1.19 s\n",
      "19\n"
     ]
    },
    {
     "name": "stdout",
     "output_type": "stream",
     "text": [
      "CPU times: user 2.27 s, sys: 65.1 ms, total: 2.33 s\n",
      "Wall time: 2.71 s\n",
      "19\n"
     ]
    },
    {
     "name": "stdout",
     "output_type": "stream",
     "text": [
      "CPU times: user 4.92 s, sys: 70.7 ms, total: 5 s\n",
      "Wall time: 5.16 s\n",
      "19\n"
     ]
    }
   ],
   "source": [
    "def povprecen_cas_fmd(n):\n",
    "    # pomožna funkcija, s katero si pomagamo pri merjenju časovne zahtevnosti deljene metrične dimenzije za večje grafe\n",
    "    st_grafov = 0\n",
    "    for i in range(1,21):\n",
    "        G = graphs.RandomGNP(n, i/20)\n",
    "        if G.is_connected():\n",
    "            st_grafov += 1\n",
    "            fractional_metric_dimension(G)\n",
    "    return st_grafov\n",
    "\n",
    "for n in [10, 20, 30, 40, 50]:\n",
    "    %time st_grafov = povprecen_cas_fmd(n)\n",
    "    print(st_grafov)"
   ]
  }
 ],
 "metadata": {
  "kernelspec": {
   "display_name": "SageMath (stable)",
   "language": "sagemath",
   "name": "sagemath"
  },
  "language_info": {
   "codemirror_mode": {
    "name": "ipython",
    "version": 2
   },
   "file_extension": ".py",
   "mimetype": "text/x-python",
   "name": "python",
   "nbconvert_exporter": "python",
   "pygments_lexer": "ipython2",
   "version": "2.7.15"
  }
 },
 "nbformat": 4,
 "nbformat_minor": 0
}