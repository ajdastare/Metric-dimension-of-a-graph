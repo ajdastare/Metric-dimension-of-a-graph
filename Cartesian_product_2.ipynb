{
 "cells": [
  {
   "cell_type": "code",
   "execution_count": 2,
   "metadata": {
    "collapsed": false
   },
   "outputs": [
   ],
   "source": [
    "def metric_dimension(G):\n",
    "    n = G.num_verts()\n",
    "    D = G.distance_matrix()\n",
    "    p = MixedIntegerLinearProgram(maximization = False)\n",
    "    x = p.new_variable(binary = True)\n",
    "    for u, v in Combinations(range(n), 2):\n",
    "        p.add_constraint(sum(x[w] for w in range(n)\n",
    "                             if D[u, w] != D[v, w]) >= 1)\n",
    "    p.set_objective(sum(x[w] for w in range(n)))\n",
    "    return p.solve()\n"
   ]
  },
  {
   "cell_type": "code",
   "execution_count": 3,
   "metadata": {
    "collapsed": false
   },
   "outputs": [
   ],
   "source": [
    "def fractional_metric_dimension(G):\n",
    "    n = G.num_verts()\n",
    "    D = G.distance_matrix()\n",
    "    p = MixedIntegerLinearProgram(maximization = False)\n",
    "    x = p.new_variable(real=True, nonnegative=True)\n",
    "    p.set_max(x,1)\n",
    "    for u, v in Combinations(range(n), 2):\n",
    "        p.add_constraint(sum(x[w] for w in range(n)\n",
    "                             if D[u, w] != D[v, w]) >= 1)\n",
    "    p.set_objective(sum(x[w] for w in range(n)))\n",
    "    return p.solve()"
   ]
  },
  {
   "cell_type": "markdown",
   "metadata": {
    "collapsed": false
   },
   "source": [
    "Metricna dimenzija kartezicnega produkta poti "
   ]
  },
  {
   "cell_type": "code",
   "execution_count": 4,
   "metadata": {
    "collapsed": false
   },
   "outputs": [
    {
     "name": "stdout",
     "output_type": "stream",
     "text": [
      "(1, 2)\n",
      "1.0\n",
      "1.0\n",
      "---\n",
      "(2, 3)\n",
      "2.0\n",
      "2.0\n",
      "---\n",
      "(3, 4)\n",
      "2.0\n",
      "2.0\n",
      "---\n",
      "(4, 5)\n",
      "2.0\n",
      "2.0\n",
      "---\n",
      "(5, 6)\n"
     ]
    },
    {
     "name": "stdout",
     "output_type": "stream",
     "text": [
      "2.0\n",
      "2.0\n",
      "---\n",
      "(6, 7)\n"
     ]
    },
    {
     "name": "stdout",
     "output_type": "stream",
     "text": [
      "2.0\n"
     ]
    },
    {
     "name": "stdout",
     "output_type": "stream",
     "text": [
      "2.0\n",
      "---\n",
      "(7, 8)\n"
     ]
    },
    {
     "name": "stdout",
     "output_type": "stream",
     "text": [
      "2.0\n"
     ]
    },
    {
     "name": "stdout",
     "output_type": "stream",
     "text": [
      "2.0\n",
      "---\n",
      "(8, 9)\n"
     ]
    }
   ],
   "source": [
    "for i in range(1,10):\n",
    "    P_i= graphs.PathGraph(i)\n",
    "    P_ii = graphs.PathGraph(i+1)\n",
    "    K = P_i.cartesian_product(P_ii)\n",
    "    print(i, i+1)\n",
    "    print(metric_dimension(K))\n",
    "    print(fractional_metric_dimension(K))\n",
    "    print('---')"
   ]
  },
  {
   "cell_type": "markdown",
   "metadata": {
    "collapsed": false
   },
   "source": [
    "Metricna dimenzija kartezicnega produkta poti in ciklov"
   ]
  },
  {
   "cell_type": "code",
   "execution_count": 4,
   "metadata": {
    "collapsed": false
   },
   "outputs": [
    {
     "name": "stdout",
     "output_type": "stream",
     "text": [
      "(1, 2)\n",
      "1.0\n",
      "1.0\n",
      "---\n",
      "(2, 3)\n",
      "2.0\n",
      "1.5\n",
      "---\n",
      "(3, 4)\n",
      "3.0\n",
      "2.0\n",
      "---\n",
      "(4, 5)\n",
      "2.0\n",
      "1.6666666666666663\n",
      "---\n",
      "(5, 6)\n"
     ]
    },
    {
     "name": "stdout",
     "output_type": "stream",
     "text": [
      "3.0\n",
      "2.0\n",
      "---\n",
      "(6, 7)\n"
     ]
    },
    {
     "name": "stdout",
     "output_type": "stream",
     "text": [
      "2.0\n"
     ]
    },
    {
     "name": "stdout",
     "output_type": "stream",
     "text": [
      "1.7500000000000002\n",
      "---\n",
      "(7, 8)\n"
     ]
    }
   ],
   "source": [
    "for i in range(1,10):\n",
    "    P_n= graphs.PathGraph(i)\n",
    "    C_m = graphs.CycleGraph(i+1)\n",
    "    K = P_n.cartesian_product(C_m)\n",
    "    print(i, i+1)\n",
    "    print(metric_dimension(K))\n",
    "    print(fractional_metric_dimension(K))\n",
    "    print('---')"
   ]
  },
  {
   "cell_type": "markdown",
   "metadata": {
    "collapsed": false
   },
   "source": [
    "Metricna dimenzija kartezicnega produkta ciklov"
   ]
  },
  {
   "cell_type": "code",
   "execution_count": 4,
   "metadata": {
    "collapsed": false
   },
   "outputs": [
    {
     "name": "stdout",
     "output_type": "stream",
     "text": [
      "(1, 2)\n",
      "1.0\n",
      "1.0\n",
      "---\n",
      "(2, 3)\n",
      "2.0\n",
      "1.5\n",
      "---\n",
      "(3, 4)\n",
      "3.0\n",
      "2.0\n",
      "---\n",
      "(4, 5)\n",
      "3.0\n",
      "2.0000000000000004\n",
      "---\n",
      "(5, 6)\n"
     ]
    },
    {
     "name": "stdout",
     "output_type": "stream",
     "text": [
      "3.0\n",
      "1.666666666666667\n",
      "---\n",
      "(6, 7)\n"
     ]
    },
    {
     "name": "stdout",
     "output_type": "stream",
     "text": [
      "3.0\n"
     ]
    },
    {
     "name": "stdout",
     "output_type": "stream",
     "text": [
      "1.7500000000000042\n",
      "---\n",
      "(7, 8)\n"
     ]
    }
   ],
   "source": [
    "for i in range(1,10):\n",
    "    C_n= graphs.CycleGraph(i)\n",
    "    C_m = graphs.CycleGraph(i+1)\n",
    "    K = C_n.cartesian_product(C_m)\n",
    "    print(i, i+1)\n",
    "    print(metric_dimension(K))\n",
    "    print(fractional_metric_dimension(K))\n",
    "    print('---')"
   ]
  },
  {
   "cell_type": "markdown",
   "metadata": {
    "collapsed": false
   },
   "source": [
    "Metricna dimenzija kartezicnega produkta polnih grafov in poti "
   ]
  },
  {
   "cell_type": "code",
   "execution_count": 3,
   "metadata": {
    "collapsed": false
   },
   "outputs": [
    {
     "name": "stdout",
     "output_type": "stream",
     "text": [
      "(1, 2)\n",
      "1.0\n",
      "1.0\n",
      "---\n",
      "(2, 3)\n",
      "2.0\n",
      "2.0\n",
      "---\n",
      "(3, 4)\n",
      "2.0\n",
      "1.5\n",
      "---\n",
      "(4, 5)\n",
      "3.0\n",
      "2.0\n",
      "---\n",
      "(5, 6)\n"
     ]
    },
    {
     "name": "stdout",
     "output_type": "stream",
     "text": [
      "4.0\n",
      "2.5\n",
      "---\n",
      "(6, 7)\n"
     ]
    },
    {
     "name": "stdout",
     "output_type": "stream",
     "text": [
      "5.0\n"
     ]
    },
    {
     "name": "stdout",
     "output_type": "stream",
     "text": [
      "3.0\n",
      "---\n",
      "(7, 8)\n"
     ]
    },
    {
     "name": "stdout",
     "output_type": "stream",
     "text": [
      "6.0\n"
     ]
    },
    {
     "name": "stdout",
     "output_type": "stream",
     "text": [
      "3.5\n",
      "---\n",
      "(8, 9)\n"
     ]
    }
   ],
   "source": [
    "for i in range(1,10):\n",
    "    K_n= graphs.CompleteGraph(i)\n",
    "    P_m = graphs.PathGraph(i+1)\n",
    "    K = K_n.cartesian_product(P_m)\n",
    "    print(i, i+1)\n",
    "    print(metric_dimension(K))\n",
    "    print(fractional_metric_dimension(K))\n",
    "    print('---')"
   ]
  },
  {
   "cell_type": "markdown",
   "metadata": {
    "collapsed": false
   },
   "source": [
    "Metricna dimenzija kartezicnega produkta polnega grafa in cikla"
   ]
  },
  {
   "cell_type": "code",
   "execution_count": 4,
   "metadata": {
    "collapsed": false
   },
   "outputs": [
    {
     "name": "stdout",
     "output_type": "stream",
     "text": [
      "(1, 2)\n",
      "1.0\n",
      "1.0\n",
      "---\n",
      "(2, 3)\n",
      "2.0\n",
      "1.5\n",
      "---\n",
      "(3, 4)\n",
      "3.0\n",
      "2.0\n",
      "---\n",
      "(4, 5)\n",
      "4.0\n",
      "2.0\n",
      "---\n",
      "(5, 6)\n"
     ]
    },
    {
     "name": "stdout",
     "output_type": "stream",
     "text": [
      "4.0\n",
      "2.5\n",
      "---\n",
      "(6, 7)\n"
     ]
    },
    {
     "name": "stdout",
     "output_type": "stream",
     "text": [
      "5.0\n"
     ]
    },
    {
     "name": "stdout",
     "output_type": "stream",
     "text": [
      "3.0\n",
      "---\n",
      "(7, 8)\n"
     ]
    },
    {
     "name": "stdout",
     "output_type": "stream",
     "text": [
      "6.0\n"
     ]
    },
    {
     "name": "stdout",
     "output_type": "stream",
     "text": [
      "3.5\n",
      "---\n",
      "(8, 9)\n"
     ]
    }
   ],
   "source": [
    "for i in range(1,10):\n",
    "    K_n= graphs.CompleteGraph(i)\n",
    "    C_m = graphs.CycleGraph(i+1)\n",
    "    K = K_n.cartesian_product(C_m)\n",
    "    print(i, i+1)\n",
    "    print(metric_dimension(K))\n",
    "    print(fractional_metric_dimension(K))\n",
    "    print('---')"
   ]
  }
 ],
 "metadata": {
  "kernelspec": {
   "display_name": "SageMath (stable)",
   "language": "sagemath",
   "name": "sagemath"
  },
  "language_info": {
   "codemirror_mode": {
    "name": "ipython",
    "version": 2
   },
   "file_extension": ".py",
   "mimetype": "text/x-python",
   "name": "python",
   "nbconvert_exporter": "python",
   "pygments_lexer": "ipython2",
   "version": "2.7.15"
  }
 },
 "nbformat": 4,
 "nbformat_minor": 0
}