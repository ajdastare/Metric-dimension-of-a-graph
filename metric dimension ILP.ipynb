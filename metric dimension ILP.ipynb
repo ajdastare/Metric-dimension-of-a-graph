{
 "cells": [
  {
   "cell_type": "code",
   "execution_count": 2,
   "metadata": {
    "collapsed": false
   },
   "outputs": [
   ],
   "source": [
    "def metric_dimension(G):\n",
    "    n = G.num_verts()\n",
    "    D = G.distance_matrix()\n",
    "    n2 = binomial(n,2)\n",
    "    b = vector([1]*n2)\n",
    "    A = matrix(n2, n)\n",
    "    C = Combinations(range(n), 2).list()\n",
    "    \n",
    "    for i in range(len(C)):\n",
    "        for j in range(n):\n",
    "            if D[C[i][0],j] != D[C[i][1],j]:\n",
    "                A[i,j] = 1\n",
    "            \n",
    "    p = MixedIntegerLinearProgram(maximization = False)\n",
    "    x = p.new_variable(binary = True)\n",
    "    p.add_constraint(A*x >= b)\n",
    "    p.set_objective(sum(x))\n",
    "    p.solve()\n",
    "    return p.get_values(x)"
   ]
  },
  {
   "cell_type": "code",
   "execution_count": 3,
   "metadata": {
    "collapsed": false
   },
   "outputs": [
   ],
   "source": [
    "G = graphs.CompleteGraph(3)\n",
    "metric_dimension(G)"
   ]
  }
 ],
 "metadata": {
  "kernelspec": {
   "display_name": "SageMath (stable)",
   "name": "sagemath"
  },
  "language_info": {
   "codemirror_mode": {
    "name": "ipython",
    "version": 2
   },
   "file_extension": ".py",
   "mimetype": "text/x-python",
   "name": "python",
   "nbconvert_exporter": "python",
   "pygments_lexer": "ipython2",
   "version": "2.7.15"
  }
 },
 "nbformat": 4,
 "nbformat_minor": 0
}